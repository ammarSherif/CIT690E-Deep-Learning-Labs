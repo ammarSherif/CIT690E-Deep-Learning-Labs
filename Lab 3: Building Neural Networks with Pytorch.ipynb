{
  "nbformat": 4,
  "nbformat_minor": 0,
  "metadata": {
    "colab": {
      "name": "Lab 3: Building Neural Networks with Pytorch.ipynb",
      "provenance": [],
      "collapsed_sections": [],
      "authorship_tag": "ABX9TyPyfkqYWtC7jL8Mz/3XSAuw",
      "include_colab_link": true
    },
    "kernelspec": {
      "name": "python3",
      "display_name": "Python 3"
    },
    "language_info": {
      "name": "python"
    },
    "accelerator": "GPU",
    "widgets": {
      "application/vnd.jupyter.widget-state+json": {
        "9ea7a6b3a8b44514ba8710097c1b9b8f": {
          "model_module": "@jupyter-widgets/controls",
          "model_name": "HBoxModel",
          "model_module_version": "1.5.0",
          "state": {
            "_dom_classes": [],
            "_model_module": "@jupyter-widgets/controls",
            "_model_module_version": "1.5.0",
            "_model_name": "HBoxModel",
            "_view_count": null,
            "_view_module": "@jupyter-widgets/controls",
            "_view_module_version": "1.5.0",
            "_view_name": "HBoxView",
            "box_style": "",
            "children": [
              "IPY_MODEL_fffbd89e1c40451a87e49c6b0937907a",
              "IPY_MODEL_6eef6cba9369426a929dc4180b43fe64",
              "IPY_MODEL_126d1a71e9234c1ba90bccb185924d6c"
            ],
            "layout": "IPY_MODEL_a6e37e96dfc84e0496d9d5b6d111d532"
          }
        },
        "fffbd89e1c40451a87e49c6b0937907a": {
          "model_module": "@jupyter-widgets/controls",
          "model_name": "HTMLModel",
          "model_module_version": "1.5.0",
          "state": {
            "_dom_classes": [],
            "_model_module": "@jupyter-widgets/controls",
            "_model_module_version": "1.5.0",
            "_model_name": "HTMLModel",
            "_view_count": null,
            "_view_module": "@jupyter-widgets/controls",
            "_view_module_version": "1.5.0",
            "_view_name": "HTMLView",
            "description": "",
            "description_tooltip": null,
            "layout": "IPY_MODEL_4c26af72e4a340adbec8710e17189a88",
            "placeholder": "​",
            "style": "IPY_MODEL_271eef73b8e54630af55cf9513acda69",
            "value": ""
          }
        },
        "6eef6cba9369426a929dc4180b43fe64": {
          "model_module": "@jupyter-widgets/controls",
          "model_name": "FloatProgressModel",
          "model_module_version": "1.5.0",
          "state": {
            "_dom_classes": [],
            "_model_module": "@jupyter-widgets/controls",
            "_model_module_version": "1.5.0",
            "_model_name": "FloatProgressModel",
            "_view_count": null,
            "_view_module": "@jupyter-widgets/controls",
            "_view_module_version": "1.5.0",
            "_view_name": "ProgressView",
            "bar_style": "success",
            "description": "",
            "description_tooltip": null,
            "layout": "IPY_MODEL_f87252c9877d497fad08ae3f55d223dc",
            "max": 9912422,
            "min": 0,
            "orientation": "horizontal",
            "style": "IPY_MODEL_d8d4f1a1003e4a6f874b3234c46bebcd",
            "value": 9912422
          }
        },
        "126d1a71e9234c1ba90bccb185924d6c": {
          "model_module": "@jupyter-widgets/controls",
          "model_name": "HTMLModel",
          "model_module_version": "1.5.0",
          "state": {
            "_dom_classes": [],
            "_model_module": "@jupyter-widgets/controls",
            "_model_module_version": "1.5.0",
            "_model_name": "HTMLModel",
            "_view_count": null,
            "_view_module": "@jupyter-widgets/controls",
            "_view_module_version": "1.5.0",
            "_view_name": "HTMLView",
            "description": "",
            "description_tooltip": null,
            "layout": "IPY_MODEL_8b586aa634d646dd84bf263753c3c4fe",
            "placeholder": "​",
            "style": "IPY_MODEL_7ff446e7f677409e9f734893f7575a95",
            "value": " 9913344/? [00:00&lt;00:00, 18537805.03it/s]"
          }
        },
        "a6e37e96dfc84e0496d9d5b6d111d532": {
          "model_module": "@jupyter-widgets/base",
          "model_name": "LayoutModel",
          "model_module_version": "1.2.0",
          "state": {
            "_model_module": "@jupyter-widgets/base",
            "_model_module_version": "1.2.0",
            "_model_name": "LayoutModel",
            "_view_count": null,
            "_view_module": "@jupyter-widgets/base",
            "_view_module_version": "1.2.0",
            "_view_name": "LayoutView",
            "align_content": null,
            "align_items": null,
            "align_self": null,
            "border": null,
            "bottom": null,
            "display": null,
            "flex": null,
            "flex_flow": null,
            "grid_area": null,
            "grid_auto_columns": null,
            "grid_auto_flow": null,
            "grid_auto_rows": null,
            "grid_column": null,
            "grid_gap": null,
            "grid_row": null,
            "grid_template_areas": null,
            "grid_template_columns": null,
            "grid_template_rows": null,
            "height": null,
            "justify_content": null,
            "justify_items": null,
            "left": null,
            "margin": null,
            "max_height": null,
            "max_width": null,
            "min_height": null,
            "min_width": null,
            "object_fit": null,
            "object_position": null,
            "order": null,
            "overflow": null,
            "overflow_x": null,
            "overflow_y": null,
            "padding": null,
            "right": null,
            "top": null,
            "visibility": null,
            "width": null
          }
        },
        "4c26af72e4a340adbec8710e17189a88": {
          "model_module": "@jupyter-widgets/base",
          "model_name": "LayoutModel",
          "model_module_version": "1.2.0",
          "state": {
            "_model_module": "@jupyter-widgets/base",
            "_model_module_version": "1.2.0",
            "_model_name": "LayoutModel",
            "_view_count": null,
            "_view_module": "@jupyter-widgets/base",
            "_view_module_version": "1.2.0",
            "_view_name": "LayoutView",
            "align_content": null,
            "align_items": null,
            "align_self": null,
            "border": null,
            "bottom": null,
            "display": null,
            "flex": null,
            "flex_flow": null,
            "grid_area": null,
            "grid_auto_columns": null,
            "grid_auto_flow": null,
            "grid_auto_rows": null,
            "grid_column": null,
            "grid_gap": null,
            "grid_row": null,
            "grid_template_areas": null,
            "grid_template_columns": null,
            "grid_template_rows": null,
            "height": null,
            "justify_content": null,
            "justify_items": null,
            "left": null,
            "margin": null,
            "max_height": null,
            "max_width": null,
            "min_height": null,
            "min_width": null,
            "object_fit": null,
            "object_position": null,
            "order": null,
            "overflow": null,
            "overflow_x": null,
            "overflow_y": null,
            "padding": null,
            "right": null,
            "top": null,
            "visibility": null,
            "width": null
          }
        },
        "271eef73b8e54630af55cf9513acda69": {
          "model_module": "@jupyter-widgets/controls",
          "model_name": "DescriptionStyleModel",
          "model_module_version": "1.5.0",
          "state": {
            "_model_module": "@jupyter-widgets/controls",
            "_model_module_version": "1.5.0",
            "_model_name": "DescriptionStyleModel",
            "_view_count": null,
            "_view_module": "@jupyter-widgets/base",
            "_view_module_version": "1.2.0",
            "_view_name": "StyleView",
            "description_width": ""
          }
        },
        "f87252c9877d497fad08ae3f55d223dc": {
          "model_module": "@jupyter-widgets/base",
          "model_name": "LayoutModel",
          "model_module_version": "1.2.0",
          "state": {
            "_model_module": "@jupyter-widgets/base",
            "_model_module_version": "1.2.0",
            "_model_name": "LayoutModel",
            "_view_count": null,
            "_view_module": "@jupyter-widgets/base",
            "_view_module_version": "1.2.0",
            "_view_name": "LayoutView",
            "align_content": null,
            "align_items": null,
            "align_self": null,
            "border": null,
            "bottom": null,
            "display": null,
            "flex": null,
            "flex_flow": null,
            "grid_area": null,
            "grid_auto_columns": null,
            "grid_auto_flow": null,
            "grid_auto_rows": null,
            "grid_column": null,
            "grid_gap": null,
            "grid_row": null,
            "grid_template_areas": null,
            "grid_template_columns": null,
            "grid_template_rows": null,
            "height": null,
            "justify_content": null,
            "justify_items": null,
            "left": null,
            "margin": null,
            "max_height": null,
            "max_width": null,
            "min_height": null,
            "min_width": null,
            "object_fit": null,
            "object_position": null,
            "order": null,
            "overflow": null,
            "overflow_x": null,
            "overflow_y": null,
            "padding": null,
            "right": null,
            "top": null,
            "visibility": null,
            "width": null
          }
        },
        "d8d4f1a1003e4a6f874b3234c46bebcd": {
          "model_module": "@jupyter-widgets/controls",
          "model_name": "ProgressStyleModel",
          "model_module_version": "1.5.0",
          "state": {
            "_model_module": "@jupyter-widgets/controls",
            "_model_module_version": "1.5.0",
            "_model_name": "ProgressStyleModel",
            "_view_count": null,
            "_view_module": "@jupyter-widgets/base",
            "_view_module_version": "1.2.0",
            "_view_name": "StyleView",
            "bar_color": null,
            "description_width": ""
          }
        },
        "8b586aa634d646dd84bf263753c3c4fe": {
          "model_module": "@jupyter-widgets/base",
          "model_name": "LayoutModel",
          "model_module_version": "1.2.0",
          "state": {
            "_model_module": "@jupyter-widgets/base",
            "_model_module_version": "1.2.0",
            "_model_name": "LayoutModel",
            "_view_count": null,
            "_view_module": "@jupyter-widgets/base",
            "_view_module_version": "1.2.0",
            "_view_name": "LayoutView",
            "align_content": null,
            "align_items": null,
            "align_self": null,
            "border": null,
            "bottom": null,
            "display": null,
            "flex": null,
            "flex_flow": null,
            "grid_area": null,
            "grid_auto_columns": null,
            "grid_auto_flow": null,
            "grid_auto_rows": null,
            "grid_column": null,
            "grid_gap": null,
            "grid_row": null,
            "grid_template_areas": null,
            "grid_template_columns": null,
            "grid_template_rows": null,
            "height": null,
            "justify_content": null,
            "justify_items": null,
            "left": null,
            "margin": null,
            "max_height": null,
            "max_width": null,
            "min_height": null,
            "min_width": null,
            "object_fit": null,
            "object_position": null,
            "order": null,
            "overflow": null,
            "overflow_x": null,
            "overflow_y": null,
            "padding": null,
            "right": null,
            "top": null,
            "visibility": null,
            "width": null
          }
        },
        "7ff446e7f677409e9f734893f7575a95": {
          "model_module": "@jupyter-widgets/controls",
          "model_name": "DescriptionStyleModel",
          "model_module_version": "1.5.0",
          "state": {
            "_model_module": "@jupyter-widgets/controls",
            "_model_module_version": "1.5.0",
            "_model_name": "DescriptionStyleModel",
            "_view_count": null,
            "_view_module": "@jupyter-widgets/base",
            "_view_module_version": "1.2.0",
            "_view_name": "StyleView",
            "description_width": ""
          }
        },
        "4f04031de44441eda4402192078d05bb": {
          "model_module": "@jupyter-widgets/controls",
          "model_name": "HBoxModel",
          "model_module_version": "1.5.0",
          "state": {
            "_dom_classes": [],
            "_model_module": "@jupyter-widgets/controls",
            "_model_module_version": "1.5.0",
            "_model_name": "HBoxModel",
            "_view_count": null,
            "_view_module": "@jupyter-widgets/controls",
            "_view_module_version": "1.5.0",
            "_view_name": "HBoxView",
            "box_style": "",
            "children": [
              "IPY_MODEL_87dd0cd1f1e24ca18a4930d5041e786d",
              "IPY_MODEL_57b63b866de34029b9db70c823c2c0f7",
              "IPY_MODEL_f7072b4bdbf24923827f6d4dfbed1861"
            ],
            "layout": "IPY_MODEL_f401dfd0081142cf98ad2255d94557ad"
          }
        },
        "87dd0cd1f1e24ca18a4930d5041e786d": {
          "model_module": "@jupyter-widgets/controls",
          "model_name": "HTMLModel",
          "model_module_version": "1.5.0",
          "state": {
            "_dom_classes": [],
            "_model_module": "@jupyter-widgets/controls",
            "_model_module_version": "1.5.0",
            "_model_name": "HTMLModel",
            "_view_count": null,
            "_view_module": "@jupyter-widgets/controls",
            "_view_module_version": "1.5.0",
            "_view_name": "HTMLView",
            "description": "",
            "description_tooltip": null,
            "layout": "IPY_MODEL_aa2fab849031499ca35c83671d02d021",
            "placeholder": "​",
            "style": "IPY_MODEL_d2d2e3515a6b442fb2f2d9259ada1586",
            "value": ""
          }
        },
        "57b63b866de34029b9db70c823c2c0f7": {
          "model_module": "@jupyter-widgets/controls",
          "model_name": "FloatProgressModel",
          "model_module_version": "1.5.0",
          "state": {
            "_dom_classes": [],
            "_model_module": "@jupyter-widgets/controls",
            "_model_module_version": "1.5.0",
            "_model_name": "FloatProgressModel",
            "_view_count": null,
            "_view_module": "@jupyter-widgets/controls",
            "_view_module_version": "1.5.0",
            "_view_name": "ProgressView",
            "bar_style": "success",
            "description": "",
            "description_tooltip": null,
            "layout": "IPY_MODEL_92de2083abe1421ca97713236cb97399",
            "max": 28881,
            "min": 0,
            "orientation": "horizontal",
            "style": "IPY_MODEL_f7b51056abd244e387f88f0df974d5bd",
            "value": 28881
          }
        },
        "f7072b4bdbf24923827f6d4dfbed1861": {
          "model_module": "@jupyter-widgets/controls",
          "model_name": "HTMLModel",
          "model_module_version": "1.5.0",
          "state": {
            "_dom_classes": [],
            "_model_module": "@jupyter-widgets/controls",
            "_model_module_version": "1.5.0",
            "_model_name": "HTMLModel",
            "_view_count": null,
            "_view_module": "@jupyter-widgets/controls",
            "_view_module_version": "1.5.0",
            "_view_name": "HTMLView",
            "description": "",
            "description_tooltip": null,
            "layout": "IPY_MODEL_ebd39e26030c4ed3ac4e873f5ccd5e75",
            "placeholder": "​",
            "style": "IPY_MODEL_1ae5a8ac66a44ce599fc1965c7d9aa12",
            "value": " 29696/? [00:00&lt;00:00, 7846.72it/s]"
          }
        },
        "f401dfd0081142cf98ad2255d94557ad": {
          "model_module": "@jupyter-widgets/base",
          "model_name": "LayoutModel",
          "model_module_version": "1.2.0",
          "state": {
            "_model_module": "@jupyter-widgets/base",
            "_model_module_version": "1.2.0",
            "_model_name": "LayoutModel",
            "_view_count": null,
            "_view_module": "@jupyter-widgets/base",
            "_view_module_version": "1.2.0",
            "_view_name": "LayoutView",
            "align_content": null,
            "align_items": null,
            "align_self": null,
            "border": null,
            "bottom": null,
            "display": null,
            "flex": null,
            "flex_flow": null,
            "grid_area": null,
            "grid_auto_columns": null,
            "grid_auto_flow": null,
            "grid_auto_rows": null,
            "grid_column": null,
            "grid_gap": null,
            "grid_row": null,
            "grid_template_areas": null,
            "grid_template_columns": null,
            "grid_template_rows": null,
            "height": null,
            "justify_content": null,
            "justify_items": null,
            "left": null,
            "margin": null,
            "max_height": null,
            "max_width": null,
            "min_height": null,
            "min_width": null,
            "object_fit": null,
            "object_position": null,
            "order": null,
            "overflow": null,
            "overflow_x": null,
            "overflow_y": null,
            "padding": null,
            "right": null,
            "top": null,
            "visibility": null,
            "width": null
          }
        },
        "aa2fab849031499ca35c83671d02d021": {
          "model_module": "@jupyter-widgets/base",
          "model_name": "LayoutModel",
          "model_module_version": "1.2.0",
          "state": {
            "_model_module": "@jupyter-widgets/base",
            "_model_module_version": "1.2.0",
            "_model_name": "LayoutModel",
            "_view_count": null,
            "_view_module": "@jupyter-widgets/base",
            "_view_module_version": "1.2.0",
            "_view_name": "LayoutView",
            "align_content": null,
            "align_items": null,
            "align_self": null,
            "border": null,
            "bottom": null,
            "display": null,
            "flex": null,
            "flex_flow": null,
            "grid_area": null,
            "grid_auto_columns": null,
            "grid_auto_flow": null,
            "grid_auto_rows": null,
            "grid_column": null,
            "grid_gap": null,
            "grid_row": null,
            "grid_template_areas": null,
            "grid_template_columns": null,
            "grid_template_rows": null,
            "height": null,
            "justify_content": null,
            "justify_items": null,
            "left": null,
            "margin": null,
            "max_height": null,
            "max_width": null,
            "min_height": null,
            "min_width": null,
            "object_fit": null,
            "object_position": null,
            "order": null,
            "overflow": null,
            "overflow_x": null,
            "overflow_y": null,
            "padding": null,
            "right": null,
            "top": null,
            "visibility": null,
            "width": null
          }
        },
        "d2d2e3515a6b442fb2f2d9259ada1586": {
          "model_module": "@jupyter-widgets/controls",
          "model_name": "DescriptionStyleModel",
          "model_module_version": "1.5.0",
          "state": {
            "_model_module": "@jupyter-widgets/controls",
            "_model_module_version": "1.5.0",
            "_model_name": "DescriptionStyleModel",
            "_view_count": null,
            "_view_module": "@jupyter-widgets/base",
            "_view_module_version": "1.2.0",
            "_view_name": "StyleView",
            "description_width": ""
          }
        },
        "92de2083abe1421ca97713236cb97399": {
          "model_module": "@jupyter-widgets/base",
          "model_name": "LayoutModel",
          "model_module_version": "1.2.0",
          "state": {
            "_model_module": "@jupyter-widgets/base",
            "_model_module_version": "1.2.0",
            "_model_name": "LayoutModel",
            "_view_count": null,
            "_view_module": "@jupyter-widgets/base",
            "_view_module_version": "1.2.0",
            "_view_name": "LayoutView",
            "align_content": null,
            "align_items": null,
            "align_self": null,
            "border": null,
            "bottom": null,
            "display": null,
            "flex": null,
            "flex_flow": null,
            "grid_area": null,
            "grid_auto_columns": null,
            "grid_auto_flow": null,
            "grid_auto_rows": null,
            "grid_column": null,
            "grid_gap": null,
            "grid_row": null,
            "grid_template_areas": null,
            "grid_template_columns": null,
            "grid_template_rows": null,
            "height": null,
            "justify_content": null,
            "justify_items": null,
            "left": null,
            "margin": null,
            "max_height": null,
            "max_width": null,
            "min_height": null,
            "min_width": null,
            "object_fit": null,
            "object_position": null,
            "order": null,
            "overflow": null,
            "overflow_x": null,
            "overflow_y": null,
            "padding": null,
            "right": null,
            "top": null,
            "visibility": null,
            "width": null
          }
        },
        "f7b51056abd244e387f88f0df974d5bd": {
          "model_module": "@jupyter-widgets/controls",
          "model_name": "ProgressStyleModel",
          "model_module_version": "1.5.0",
          "state": {
            "_model_module": "@jupyter-widgets/controls",
            "_model_module_version": "1.5.0",
            "_model_name": "ProgressStyleModel",
            "_view_count": null,
            "_view_module": "@jupyter-widgets/base",
            "_view_module_version": "1.2.0",
            "_view_name": "StyleView",
            "bar_color": null,
            "description_width": ""
          }
        },
        "ebd39e26030c4ed3ac4e873f5ccd5e75": {
          "model_module": "@jupyter-widgets/base",
          "model_name": "LayoutModel",
          "model_module_version": "1.2.0",
          "state": {
            "_model_module": "@jupyter-widgets/base",
            "_model_module_version": "1.2.0",
            "_model_name": "LayoutModel",
            "_view_count": null,
            "_view_module": "@jupyter-widgets/base",
            "_view_module_version": "1.2.0",
            "_view_name": "LayoutView",
            "align_content": null,
            "align_items": null,
            "align_self": null,
            "border": null,
            "bottom": null,
            "display": null,
            "flex": null,
            "flex_flow": null,
            "grid_area": null,
            "grid_auto_columns": null,
            "grid_auto_flow": null,
            "grid_auto_rows": null,
            "grid_column": null,
            "grid_gap": null,
            "grid_row": null,
            "grid_template_areas": null,
            "grid_template_columns": null,
            "grid_template_rows": null,
            "height": null,
            "justify_content": null,
            "justify_items": null,
            "left": null,
            "margin": null,
            "max_height": null,
            "max_width": null,
            "min_height": null,
            "min_width": null,
            "object_fit": null,
            "object_position": null,
            "order": null,
            "overflow": null,
            "overflow_x": null,
            "overflow_y": null,
            "padding": null,
            "right": null,
            "top": null,
            "visibility": null,
            "width": null
          }
        },
        "1ae5a8ac66a44ce599fc1965c7d9aa12": {
          "model_module": "@jupyter-widgets/controls",
          "model_name": "DescriptionStyleModel",
          "model_module_version": "1.5.0",
          "state": {
            "_model_module": "@jupyter-widgets/controls",
            "_model_module_version": "1.5.0",
            "_model_name": "DescriptionStyleModel",
            "_view_count": null,
            "_view_module": "@jupyter-widgets/base",
            "_view_module_version": "1.2.0",
            "_view_name": "StyleView",
            "description_width": ""
          }
        },
        "88d1d04a627f4b31b07616bba1e884c5": {
          "model_module": "@jupyter-widgets/controls",
          "model_name": "HBoxModel",
          "model_module_version": "1.5.0",
          "state": {
            "_dom_classes": [],
            "_model_module": "@jupyter-widgets/controls",
            "_model_module_version": "1.5.0",
            "_model_name": "HBoxModel",
            "_view_count": null,
            "_view_module": "@jupyter-widgets/controls",
            "_view_module_version": "1.5.0",
            "_view_name": "HBoxView",
            "box_style": "",
            "children": [
              "IPY_MODEL_b9ac1e96bded411db13140954562324c",
              "IPY_MODEL_a88476ee979747638dc8c690857ca066",
              "IPY_MODEL_b80df28bc208426cbd16e004bc400737"
            ],
            "layout": "IPY_MODEL_19cf48f776fc4b978d7eea5be9e41bd5"
          }
        },
        "b9ac1e96bded411db13140954562324c": {
          "model_module": "@jupyter-widgets/controls",
          "model_name": "HTMLModel",
          "model_module_version": "1.5.0",
          "state": {
            "_dom_classes": [],
            "_model_module": "@jupyter-widgets/controls",
            "_model_module_version": "1.5.0",
            "_model_name": "HTMLModel",
            "_view_count": null,
            "_view_module": "@jupyter-widgets/controls",
            "_view_module_version": "1.5.0",
            "_view_name": "HTMLView",
            "description": "",
            "description_tooltip": null,
            "layout": "IPY_MODEL_0f531cc2ee224ec5bb091f38a89cb44e",
            "placeholder": "​",
            "style": "IPY_MODEL_ae9d98fdddd7473ab62ad5466944fe54",
            "value": ""
          }
        },
        "a88476ee979747638dc8c690857ca066": {
          "model_module": "@jupyter-widgets/controls",
          "model_name": "FloatProgressModel",
          "model_module_version": "1.5.0",
          "state": {
            "_dom_classes": [],
            "_model_module": "@jupyter-widgets/controls",
            "_model_module_version": "1.5.0",
            "_model_name": "FloatProgressModel",
            "_view_count": null,
            "_view_module": "@jupyter-widgets/controls",
            "_view_module_version": "1.5.0",
            "_view_name": "ProgressView",
            "bar_style": "success",
            "description": "",
            "description_tooltip": null,
            "layout": "IPY_MODEL_e47f98f40ac546caba508b8cf8d9e980",
            "max": 1648877,
            "min": 0,
            "orientation": "horizontal",
            "style": "IPY_MODEL_e1398366ac404d4baa4ae13a18526e1a",
            "value": 1648877
          }
        },
        "b80df28bc208426cbd16e004bc400737": {
          "model_module": "@jupyter-widgets/controls",
          "model_name": "HTMLModel",
          "model_module_version": "1.5.0",
          "state": {
            "_dom_classes": [],
            "_model_module": "@jupyter-widgets/controls",
            "_model_module_version": "1.5.0",
            "_model_name": "HTMLModel",
            "_view_count": null,
            "_view_module": "@jupyter-widgets/controls",
            "_view_module_version": "1.5.0",
            "_view_name": "HTMLView",
            "description": "",
            "description_tooltip": null,
            "layout": "IPY_MODEL_4b4ee37be994486dac7f501eb8d41eb8",
            "placeholder": "​",
            "style": "IPY_MODEL_67bcd04be0d743c9a64f4ddd23d3d945",
            "value": " 1649664/? [00:00&lt;00:00, 1852226.57it/s]"
          }
        },
        "19cf48f776fc4b978d7eea5be9e41bd5": {
          "model_module": "@jupyter-widgets/base",
          "model_name": "LayoutModel",
          "model_module_version": "1.2.0",
          "state": {
            "_model_module": "@jupyter-widgets/base",
            "_model_module_version": "1.2.0",
            "_model_name": "LayoutModel",
            "_view_count": null,
            "_view_module": "@jupyter-widgets/base",
            "_view_module_version": "1.2.0",
            "_view_name": "LayoutView",
            "align_content": null,
            "align_items": null,
            "align_self": null,
            "border": null,
            "bottom": null,
            "display": null,
            "flex": null,
            "flex_flow": null,
            "grid_area": null,
            "grid_auto_columns": null,
            "grid_auto_flow": null,
            "grid_auto_rows": null,
            "grid_column": null,
            "grid_gap": null,
            "grid_row": null,
            "grid_template_areas": null,
            "grid_template_columns": null,
            "grid_template_rows": null,
            "height": null,
            "justify_content": null,
            "justify_items": null,
            "left": null,
            "margin": null,
            "max_height": null,
            "max_width": null,
            "min_height": null,
            "min_width": null,
            "object_fit": null,
            "object_position": null,
            "order": null,
            "overflow": null,
            "overflow_x": null,
            "overflow_y": null,
            "padding": null,
            "right": null,
            "top": null,
            "visibility": null,
            "width": null
          }
        },
        "0f531cc2ee224ec5bb091f38a89cb44e": {
          "model_module": "@jupyter-widgets/base",
          "model_name": "LayoutModel",
          "model_module_version": "1.2.0",
          "state": {
            "_model_module": "@jupyter-widgets/base",
            "_model_module_version": "1.2.0",
            "_model_name": "LayoutModel",
            "_view_count": null,
            "_view_module": "@jupyter-widgets/base",
            "_view_module_version": "1.2.0",
            "_view_name": "LayoutView",
            "align_content": null,
            "align_items": null,
            "align_self": null,
            "border": null,
            "bottom": null,
            "display": null,
            "flex": null,
            "flex_flow": null,
            "grid_area": null,
            "grid_auto_columns": null,
            "grid_auto_flow": null,
            "grid_auto_rows": null,
            "grid_column": null,
            "grid_gap": null,
            "grid_row": null,
            "grid_template_areas": null,
            "grid_template_columns": null,
            "grid_template_rows": null,
            "height": null,
            "justify_content": null,
            "justify_items": null,
            "left": null,
            "margin": null,
            "max_height": null,
            "max_width": null,
            "min_height": null,
            "min_width": null,
            "object_fit": null,
            "object_position": null,
            "order": null,
            "overflow": null,
            "overflow_x": null,
            "overflow_y": null,
            "padding": null,
            "right": null,
            "top": null,
            "visibility": null,
            "width": null
          }
        },
        "ae9d98fdddd7473ab62ad5466944fe54": {
          "model_module": "@jupyter-widgets/controls",
          "model_name": "DescriptionStyleModel",
          "model_module_version": "1.5.0",
          "state": {
            "_model_module": "@jupyter-widgets/controls",
            "_model_module_version": "1.5.0",
            "_model_name": "DescriptionStyleModel",
            "_view_count": null,
            "_view_module": "@jupyter-widgets/base",
            "_view_module_version": "1.2.0",
            "_view_name": "StyleView",
            "description_width": ""
          }
        },
        "e47f98f40ac546caba508b8cf8d9e980": {
          "model_module": "@jupyter-widgets/base",
          "model_name": "LayoutModel",
          "model_module_version": "1.2.0",
          "state": {
            "_model_module": "@jupyter-widgets/base",
            "_model_module_version": "1.2.0",
            "_model_name": "LayoutModel",
            "_view_count": null,
            "_view_module": "@jupyter-widgets/base",
            "_view_module_version": "1.2.0",
            "_view_name": "LayoutView",
            "align_content": null,
            "align_items": null,
            "align_self": null,
            "border": null,
            "bottom": null,
            "display": null,
            "flex": null,
            "flex_flow": null,
            "grid_area": null,
            "grid_auto_columns": null,
            "grid_auto_flow": null,
            "grid_auto_rows": null,
            "grid_column": null,
            "grid_gap": null,
            "grid_row": null,
            "grid_template_areas": null,
            "grid_template_columns": null,
            "grid_template_rows": null,
            "height": null,
            "justify_content": null,
            "justify_items": null,
            "left": null,
            "margin": null,
            "max_height": null,
            "max_width": null,
            "min_height": null,
            "min_width": null,
            "object_fit": null,
            "object_position": null,
            "order": null,
            "overflow": null,
            "overflow_x": null,
            "overflow_y": null,
            "padding": null,
            "right": null,
            "top": null,
            "visibility": null,
            "width": null
          }
        },
        "e1398366ac404d4baa4ae13a18526e1a": {
          "model_module": "@jupyter-widgets/controls",
          "model_name": "ProgressStyleModel",
          "model_module_version": "1.5.0",
          "state": {
            "_model_module": "@jupyter-widgets/controls",
            "_model_module_version": "1.5.0",
            "_model_name": "ProgressStyleModel",
            "_view_count": null,
            "_view_module": "@jupyter-widgets/base",
            "_view_module_version": "1.2.0",
            "_view_name": "StyleView",
            "bar_color": null,
            "description_width": ""
          }
        },
        "4b4ee37be994486dac7f501eb8d41eb8": {
          "model_module": "@jupyter-widgets/base",
          "model_name": "LayoutModel",
          "model_module_version": "1.2.0",
          "state": {
            "_model_module": "@jupyter-widgets/base",
            "_model_module_version": "1.2.0",
            "_model_name": "LayoutModel",
            "_view_count": null,
            "_view_module": "@jupyter-widgets/base",
            "_view_module_version": "1.2.0",
            "_view_name": "LayoutView",
            "align_content": null,
            "align_items": null,
            "align_self": null,
            "border": null,
            "bottom": null,
            "display": null,
            "flex": null,
            "flex_flow": null,
            "grid_area": null,
            "grid_auto_columns": null,
            "grid_auto_flow": null,
            "grid_auto_rows": null,
            "grid_column": null,
            "grid_gap": null,
            "grid_row": null,
            "grid_template_areas": null,
            "grid_template_columns": null,
            "grid_template_rows": null,
            "height": null,
            "justify_content": null,
            "justify_items": null,
            "left": null,
            "margin": null,
            "max_height": null,
            "max_width": null,
            "min_height": null,
            "min_width": null,
            "object_fit": null,
            "object_position": null,
            "order": null,
            "overflow": null,
            "overflow_x": null,
            "overflow_y": null,
            "padding": null,
            "right": null,
            "top": null,
            "visibility": null,
            "width": null
          }
        },
        "67bcd04be0d743c9a64f4ddd23d3d945": {
          "model_module": "@jupyter-widgets/controls",
          "model_name": "DescriptionStyleModel",
          "model_module_version": "1.5.0",
          "state": {
            "_model_module": "@jupyter-widgets/controls",
            "_model_module_version": "1.5.0",
            "_model_name": "DescriptionStyleModel",
            "_view_count": null,
            "_view_module": "@jupyter-widgets/base",
            "_view_module_version": "1.2.0",
            "_view_name": "StyleView",
            "description_width": ""
          }
        },
        "39c27976cbe948c88127887833bc5c10": {
          "model_module": "@jupyter-widgets/controls",
          "model_name": "HBoxModel",
          "model_module_version": "1.5.0",
          "state": {
            "_dom_classes": [],
            "_model_module": "@jupyter-widgets/controls",
            "_model_module_version": "1.5.0",
            "_model_name": "HBoxModel",
            "_view_count": null,
            "_view_module": "@jupyter-widgets/controls",
            "_view_module_version": "1.5.0",
            "_view_name": "HBoxView",
            "box_style": "",
            "children": [
              "IPY_MODEL_ca0de6a914a9492285adbad17e7c59d4",
              "IPY_MODEL_aa7bc0d9f0784bedae829dce5d2221b6",
              "IPY_MODEL_9c32a5b7968c4de5ab469b49c2197ce1"
            ],
            "layout": "IPY_MODEL_7157d756448e4716b467c533446dd770"
          }
        },
        "ca0de6a914a9492285adbad17e7c59d4": {
          "model_module": "@jupyter-widgets/controls",
          "model_name": "HTMLModel",
          "model_module_version": "1.5.0",
          "state": {
            "_dom_classes": [],
            "_model_module": "@jupyter-widgets/controls",
            "_model_module_version": "1.5.0",
            "_model_name": "HTMLModel",
            "_view_count": null,
            "_view_module": "@jupyter-widgets/controls",
            "_view_module_version": "1.5.0",
            "_view_name": "HTMLView",
            "description": "",
            "description_tooltip": null,
            "layout": "IPY_MODEL_132849aa07684549bc3f7c047b1873c4",
            "placeholder": "​",
            "style": "IPY_MODEL_b485f263c1ef482eb1ead00c2793a964",
            "value": ""
          }
        },
        "aa7bc0d9f0784bedae829dce5d2221b6": {
          "model_module": "@jupyter-widgets/controls",
          "model_name": "FloatProgressModel",
          "model_module_version": "1.5.0",
          "state": {
            "_dom_classes": [],
            "_model_module": "@jupyter-widgets/controls",
            "_model_module_version": "1.5.0",
            "_model_name": "FloatProgressModel",
            "_view_count": null,
            "_view_module": "@jupyter-widgets/controls",
            "_view_module_version": "1.5.0",
            "_view_name": "ProgressView",
            "bar_style": "success",
            "description": "",
            "description_tooltip": null,
            "layout": "IPY_MODEL_6e2cffce7fbc4d9d982e9539a9af41cb",
            "max": 4542,
            "min": 0,
            "orientation": "horizontal",
            "style": "IPY_MODEL_28d76aea661b4f4a97d11570aa2792fe",
            "value": 4542
          }
        },
        "9c32a5b7968c4de5ab469b49c2197ce1": {
          "model_module": "@jupyter-widgets/controls",
          "model_name": "HTMLModel",
          "model_module_version": "1.5.0",
          "state": {
            "_dom_classes": [],
            "_model_module": "@jupyter-widgets/controls",
            "_model_module_version": "1.5.0",
            "_model_name": "HTMLModel",
            "_view_count": null,
            "_view_module": "@jupyter-widgets/controls",
            "_view_module_version": "1.5.0",
            "_view_name": "HTMLView",
            "description": "",
            "description_tooltip": null,
            "layout": "IPY_MODEL_11379fce81a84e2cb86974d7ac79d417",
            "placeholder": "​",
            "style": "IPY_MODEL_c668ecffdcbb4a409dc25f2cef9fdf35",
            "value": " 5120/? [00:00&lt;00:00, 192297.62it/s]"
          }
        },
        "7157d756448e4716b467c533446dd770": {
          "model_module": "@jupyter-widgets/base",
          "model_name": "LayoutModel",
          "model_module_version": "1.2.0",
          "state": {
            "_model_module": "@jupyter-widgets/base",
            "_model_module_version": "1.2.0",
            "_model_name": "LayoutModel",
            "_view_count": null,
            "_view_module": "@jupyter-widgets/base",
            "_view_module_version": "1.2.0",
            "_view_name": "LayoutView",
            "align_content": null,
            "align_items": null,
            "align_self": null,
            "border": null,
            "bottom": null,
            "display": null,
            "flex": null,
            "flex_flow": null,
            "grid_area": null,
            "grid_auto_columns": null,
            "grid_auto_flow": null,
            "grid_auto_rows": null,
            "grid_column": null,
            "grid_gap": null,
            "grid_row": null,
            "grid_template_areas": null,
            "grid_template_columns": null,
            "grid_template_rows": null,
            "height": null,
            "justify_content": null,
            "justify_items": null,
            "left": null,
            "margin": null,
            "max_height": null,
            "max_width": null,
            "min_height": null,
            "min_width": null,
            "object_fit": null,
            "object_position": null,
            "order": null,
            "overflow": null,
            "overflow_x": null,
            "overflow_y": null,
            "padding": null,
            "right": null,
            "top": null,
            "visibility": null,
            "width": null
          }
        },
        "132849aa07684549bc3f7c047b1873c4": {
          "model_module": "@jupyter-widgets/base",
          "model_name": "LayoutModel",
          "model_module_version": "1.2.0",
          "state": {
            "_model_module": "@jupyter-widgets/base",
            "_model_module_version": "1.2.0",
            "_model_name": "LayoutModel",
            "_view_count": null,
            "_view_module": "@jupyter-widgets/base",
            "_view_module_version": "1.2.0",
            "_view_name": "LayoutView",
            "align_content": null,
            "align_items": null,
            "align_self": null,
            "border": null,
            "bottom": null,
            "display": null,
            "flex": null,
            "flex_flow": null,
            "grid_area": null,
            "grid_auto_columns": null,
            "grid_auto_flow": null,
            "grid_auto_rows": null,
            "grid_column": null,
            "grid_gap": null,
            "grid_row": null,
            "grid_template_areas": null,
            "grid_template_columns": null,
            "grid_template_rows": null,
            "height": null,
            "justify_content": null,
            "justify_items": null,
            "left": null,
            "margin": null,
            "max_height": null,
            "max_width": null,
            "min_height": null,
            "min_width": null,
            "object_fit": null,
            "object_position": null,
            "order": null,
            "overflow": null,
            "overflow_x": null,
            "overflow_y": null,
            "padding": null,
            "right": null,
            "top": null,
            "visibility": null,
            "width": null
          }
        },
        "b485f263c1ef482eb1ead00c2793a964": {
          "model_module": "@jupyter-widgets/controls",
          "model_name": "DescriptionStyleModel",
          "model_module_version": "1.5.0",
          "state": {
            "_model_module": "@jupyter-widgets/controls",
            "_model_module_version": "1.5.0",
            "_model_name": "DescriptionStyleModel",
            "_view_count": null,
            "_view_module": "@jupyter-widgets/base",
            "_view_module_version": "1.2.0",
            "_view_name": "StyleView",
            "description_width": ""
          }
        },
        "6e2cffce7fbc4d9d982e9539a9af41cb": {
          "model_module": "@jupyter-widgets/base",
          "model_name": "LayoutModel",
          "model_module_version": "1.2.0",
          "state": {
            "_model_module": "@jupyter-widgets/base",
            "_model_module_version": "1.2.0",
            "_model_name": "LayoutModel",
            "_view_count": null,
            "_view_module": "@jupyter-widgets/base",
            "_view_module_version": "1.2.0",
            "_view_name": "LayoutView",
            "align_content": null,
            "align_items": null,
            "align_self": null,
            "border": null,
            "bottom": null,
            "display": null,
            "flex": null,
            "flex_flow": null,
            "grid_area": null,
            "grid_auto_columns": null,
            "grid_auto_flow": null,
            "grid_auto_rows": null,
            "grid_column": null,
            "grid_gap": null,
            "grid_row": null,
            "grid_template_areas": null,
            "grid_template_columns": null,
            "grid_template_rows": null,
            "height": null,
            "justify_content": null,
            "justify_items": null,
            "left": null,
            "margin": null,
            "max_height": null,
            "max_width": null,
            "min_height": null,
            "min_width": null,
            "object_fit": null,
            "object_position": null,
            "order": null,
            "overflow": null,
            "overflow_x": null,
            "overflow_y": null,
            "padding": null,
            "right": null,
            "top": null,
            "visibility": null,
            "width": null
          }
        },
        "28d76aea661b4f4a97d11570aa2792fe": {
          "model_module": "@jupyter-widgets/controls",
          "model_name": "ProgressStyleModel",
          "model_module_version": "1.5.0",
          "state": {
            "_model_module": "@jupyter-widgets/controls",
            "_model_module_version": "1.5.0",
            "_model_name": "ProgressStyleModel",
            "_view_count": null,
            "_view_module": "@jupyter-widgets/base",
            "_view_module_version": "1.2.0",
            "_view_name": "StyleView",
            "bar_color": null,
            "description_width": ""
          }
        },
        "11379fce81a84e2cb86974d7ac79d417": {
          "model_module": "@jupyter-widgets/base",
          "model_name": "LayoutModel",
          "model_module_version": "1.2.0",
          "state": {
            "_model_module": "@jupyter-widgets/base",
            "_model_module_version": "1.2.0",
            "_model_name": "LayoutModel",
            "_view_count": null,
            "_view_module": "@jupyter-widgets/base",
            "_view_module_version": "1.2.0",
            "_view_name": "LayoutView",
            "align_content": null,
            "align_items": null,
            "align_self": null,
            "border": null,
            "bottom": null,
            "display": null,
            "flex": null,
            "flex_flow": null,
            "grid_area": null,
            "grid_auto_columns": null,
            "grid_auto_flow": null,
            "grid_auto_rows": null,
            "grid_column": null,
            "grid_gap": null,
            "grid_row": null,
            "grid_template_areas": null,
            "grid_template_columns": null,
            "grid_template_rows": null,
            "height": null,
            "justify_content": null,
            "justify_items": null,
            "left": null,
            "margin": null,
            "max_height": null,
            "max_width": null,
            "min_height": null,
            "min_width": null,
            "object_fit": null,
            "object_position": null,
            "order": null,
            "overflow": null,
            "overflow_x": null,
            "overflow_y": null,
            "padding": null,
            "right": null,
            "top": null,
            "visibility": null,
            "width": null
          }
        },
        "c668ecffdcbb4a409dc25f2cef9fdf35": {
          "model_module": "@jupyter-widgets/controls",
          "model_name": "DescriptionStyleModel",
          "model_module_version": "1.5.0",
          "state": {
            "_model_module": "@jupyter-widgets/controls",
            "_model_module_version": "1.5.0",
            "_model_name": "DescriptionStyleModel",
            "_view_count": null,
            "_view_module": "@jupyter-widgets/base",
            "_view_module_version": "1.2.0",
            "_view_name": "StyleView",
            "description_width": ""
          }
        }
      }
    }
  },
  "cells": [
    {
      "cell_type": "markdown",
      "metadata": {
        "id": "view-in-github",
        "colab_type": "text"
      },
      "source": [
        "<a href=\"https://colab.research.google.com/github/ammarSherif/CIT690E-Deep-Learning-Labs/blob/main/Lab%203%3A%20Building%20Neural%20Networks%20with%20Pytorch.ipynb\" target=\"_parent\"><img src=\"https://colab.research.google.com/assets/colab-badge.svg\" alt=\"Open In Colab\"/></a>"
      ]
    },
    {
      "cell_type": "markdown",
      "source": [
        "# Lab 3: Building Neural Networks with Pytorch"
      ],
      "metadata": {
        "id": "_wVF6q_4th53"
      }
    },
    {
      "cell_type": "markdown",
      "source": [
        "CIT690E: Deep Learning <br>\n",
        "Nile University<br>\n",
        "Ammar Sherif<br>\n",
        "Github Repo: [CIT690E-Deep-Learning-Labs](https://github.com/ammarSherif/CIT690E-Deep-Learning-Labs)"
      ],
      "metadata": {
        "id": "yDdtCoSItoZN"
      }
    },
    {
      "cell_type": "markdown",
      "source": [
        "## Outline\n",
        "\n",
        "In this lab, we will learn how to build our first Neural Network using Pytorch. Below is the outline"
      ],
      "metadata": {
        "id": "xTQ8rjwMt4IG"
      }
    },
    {
      "cell_type": "code",
      "source": [
        "# ==============================================================================\n",
        "# Some imports that we are using in our lab\n",
        "# ==============================================================================\n",
        "import torch\n",
        "import torch.nn as nn\n",
        "import torch.nn.functional as F\n",
        "from torchvision.datasets import MNIST\n",
        "from torchvision.transforms import ToTensor\n",
        "from torchvision.utils import make_grid\n",
        "from torch.utils.data.dataloader import DataLoader\n",
        "from torch.utils.data import random_split\n",
        "\n",
        "import numpy as np\n",
        "import matplotlib.pyplot as plt"
      ],
      "metadata": {
        "id": "K5W3ODwOxNXy"
      },
      "execution_count": null,
      "outputs": []
    },
    {
      "cell_type": "code",
      "source": [
        "# ==============================================================================\n",
        "# Identify the device at the beginning\n",
        "# ==============================================================================\n",
        "device = 'cuda:0' if torch.cuda.is_available() else 'cpu'\n",
        "print(device)"
      ],
      "metadata": {
        "colab": {
          "base_uri": "https://localhost:8080/"
        },
        "id": "yKvWDm7EglyX",
        "outputId": "2d702b37-4574-4381-ff88-9ba810854005"
      },
      "execution_count": null,
      "outputs": [
        {
          "output_type": "stream",
          "name": "stdout",
          "text": [
            "cuda:0\n"
          ]
        }
      ]
    },
    {
      "cell_type": "markdown",
      "source": [
        "## Dataset"
      ],
      "metadata": {
        "id": "GCY8X4eRuzxk"
      }
    },
    {
      "cell_type": "markdown",
      "source": [
        "We will use **MNIST dataset**. It contains group of hand written digits. Our objective is to build a model that is able to identify the hand-written digit in an image. Below are some details:\n",
        "\n",
        "\n",
        "*   60K training samples\n",
        "*   10K testing samples\n",
        "*   10 output classes [0-9], **classification**\n",
        "*   Input image size: 28x28"
      ],
      "metadata": {
        "id": "nHzJJ5PGvUQV"
      }
    },
    {
      "cell_type": "markdown",
      "source": [
        "### Loading Dataset"
      ],
      "metadata": {
        "id": "oZz8uKiixG0S"
      }
    },
    {
      "cell_type": "code",
      "source": [
        "# ==============================================================================\n",
        "# Load the data and transform it\n",
        "# ==============================================================================\n",
        "train_data = MNIST(root='./data',train=True,download=True,transform=ToTensor())\n",
        "val_data = MNIST(root='./data',train=False,download=True,transform=ToTensor())\n",
        "\n",
        "batch_size = 128\n",
        "train_loader = DataLoader(train_data, batch_size, shuffle=True, num_workers=4,\n",
        "                          pin_memory=True)\n",
        "val_loader = DataLoader(val_data, batch_size*2, num_workers=4, pin_memory=True)"
      ],
      "metadata": {
        "colab": {
          "base_uri": "https://localhost:8080/",
          "height": 478,
          "referenced_widgets": [
            "9ea7a6b3a8b44514ba8710097c1b9b8f",
            "fffbd89e1c40451a87e49c6b0937907a",
            "6eef6cba9369426a929dc4180b43fe64",
            "126d1a71e9234c1ba90bccb185924d6c",
            "a6e37e96dfc84e0496d9d5b6d111d532",
            "4c26af72e4a340adbec8710e17189a88",
            "271eef73b8e54630af55cf9513acda69",
            "f87252c9877d497fad08ae3f55d223dc",
            "d8d4f1a1003e4a6f874b3234c46bebcd",
            "8b586aa634d646dd84bf263753c3c4fe",
            "7ff446e7f677409e9f734893f7575a95",
            "4f04031de44441eda4402192078d05bb",
            "87dd0cd1f1e24ca18a4930d5041e786d",
            "57b63b866de34029b9db70c823c2c0f7",
            "f7072b4bdbf24923827f6d4dfbed1861",
            "f401dfd0081142cf98ad2255d94557ad",
            "aa2fab849031499ca35c83671d02d021",
            "d2d2e3515a6b442fb2f2d9259ada1586",
            "92de2083abe1421ca97713236cb97399",
            "f7b51056abd244e387f88f0df974d5bd",
            "ebd39e26030c4ed3ac4e873f5ccd5e75",
            "1ae5a8ac66a44ce599fc1965c7d9aa12",
            "88d1d04a627f4b31b07616bba1e884c5",
            "b9ac1e96bded411db13140954562324c",
            "a88476ee979747638dc8c690857ca066",
            "b80df28bc208426cbd16e004bc400737",
            "19cf48f776fc4b978d7eea5be9e41bd5",
            "0f531cc2ee224ec5bb091f38a89cb44e",
            "ae9d98fdddd7473ab62ad5466944fe54",
            "e47f98f40ac546caba508b8cf8d9e980",
            "e1398366ac404d4baa4ae13a18526e1a",
            "4b4ee37be994486dac7f501eb8d41eb8",
            "67bcd04be0d743c9a64f4ddd23d3d945",
            "39c27976cbe948c88127887833bc5c10",
            "ca0de6a914a9492285adbad17e7c59d4",
            "aa7bc0d9f0784bedae829dce5d2221b6",
            "9c32a5b7968c4de5ab469b49c2197ce1",
            "7157d756448e4716b467c533446dd770",
            "132849aa07684549bc3f7c047b1873c4",
            "b485f263c1ef482eb1ead00c2793a964",
            "6e2cffce7fbc4d9d982e9539a9af41cb",
            "28d76aea661b4f4a97d11570aa2792fe",
            "11379fce81a84e2cb86974d7ac79d417",
            "c668ecffdcbb4a409dc25f2cef9fdf35"
          ]
        },
        "id": "42n0X0s0guVH",
        "outputId": "f2eda209-5d1a-4137-befb-c4f908d20e60"
      },
      "execution_count": null,
      "outputs": [
        {
          "output_type": "stream",
          "name": "stdout",
          "text": [
            "Downloading http://yann.lecun.com/exdb/mnist/train-images-idx3-ubyte.gz\n",
            "Downloading http://yann.lecun.com/exdb/mnist/train-images-idx3-ubyte.gz to ./data/MNIST/raw/train-images-idx3-ubyte.gz\n"
          ]
        },
        {
          "output_type": "display_data",
          "data": {
            "text/plain": [
              "  0%|          | 0/9912422 [00:00<?, ?it/s]"
            ],
            "application/vnd.jupyter.widget-view+json": {
              "version_major": 2,
              "version_minor": 0,
              "model_id": "9ea7a6b3a8b44514ba8710097c1b9b8f"
            }
          },
          "metadata": {}
        },
        {
          "output_type": "stream",
          "name": "stdout",
          "text": [
            "Extracting ./data/MNIST/raw/train-images-idx3-ubyte.gz to ./data/MNIST/raw\n",
            "\n",
            "Downloading http://yann.lecun.com/exdb/mnist/train-labels-idx1-ubyte.gz\n",
            "Downloading http://yann.lecun.com/exdb/mnist/train-labels-idx1-ubyte.gz to ./data/MNIST/raw/train-labels-idx1-ubyte.gz\n"
          ]
        },
        {
          "output_type": "display_data",
          "data": {
            "text/plain": [
              "  0%|          | 0/28881 [00:00<?, ?it/s]"
            ],
            "application/vnd.jupyter.widget-view+json": {
              "version_major": 2,
              "version_minor": 0,
              "model_id": "4f04031de44441eda4402192078d05bb"
            }
          },
          "metadata": {}
        },
        {
          "output_type": "stream",
          "name": "stdout",
          "text": [
            "Extracting ./data/MNIST/raw/train-labels-idx1-ubyte.gz to ./data/MNIST/raw\n",
            "\n",
            "Downloading http://yann.lecun.com/exdb/mnist/t10k-images-idx3-ubyte.gz\n",
            "Downloading http://yann.lecun.com/exdb/mnist/t10k-images-idx3-ubyte.gz to ./data/MNIST/raw/t10k-images-idx3-ubyte.gz\n"
          ]
        },
        {
          "output_type": "display_data",
          "data": {
            "text/plain": [
              "  0%|          | 0/1648877 [00:00<?, ?it/s]"
            ],
            "application/vnd.jupyter.widget-view+json": {
              "version_major": 2,
              "version_minor": 0,
              "model_id": "88d1d04a627f4b31b07616bba1e884c5"
            }
          },
          "metadata": {}
        },
        {
          "output_type": "stream",
          "name": "stdout",
          "text": [
            "Extracting ./data/MNIST/raw/t10k-images-idx3-ubyte.gz to ./data/MNIST/raw\n",
            "\n",
            "Downloading http://yann.lecun.com/exdb/mnist/t10k-labels-idx1-ubyte.gz\n",
            "Downloading http://yann.lecun.com/exdb/mnist/t10k-labels-idx1-ubyte.gz to ./data/MNIST/raw/t10k-labels-idx1-ubyte.gz\n"
          ]
        },
        {
          "output_type": "display_data",
          "data": {
            "text/plain": [
              "  0%|          | 0/4542 [00:00<?, ?it/s]"
            ],
            "application/vnd.jupyter.widget-view+json": {
              "version_major": 2,
              "version_minor": 0,
              "model_id": "39c27976cbe948c88127887833bc5c10"
            }
          },
          "metadata": {}
        },
        {
          "output_type": "stream",
          "name": "stdout",
          "text": [
            "Extracting ./data/MNIST/raw/t10k-labels-idx1-ubyte.gz to ./data/MNIST/raw\n",
            "\n"
          ]
        },
        {
          "output_type": "stream",
          "name": "stderr",
          "text": [
            "/usr/local/lib/python3.7/dist-packages/torch/utils/data/dataloader.py:481: UserWarning: This DataLoader will create 4 worker processes in total. Our suggested max number of worker in current system is 2, which is smaller than what this DataLoader is going to create. Please be aware that excessive worker creation might get DataLoader running slow or even freeze, lower the worker number to avoid potential slowness/freeze if necessary.\n",
            "  cpuset_checked))\n"
          ]
        }
      ]
    },
    {
      "cell_type": "markdown",
      "source": [
        "### Samples"
      ],
      "metadata": {
        "id": "9GPsEKeAiZu6"
      }
    },
    {
      "cell_type": "code",
      "source": [
        "# ==============================================================================\n",
        "# Showing some examples\n",
        "# ==============================================================================\n",
        "example_data, example_targets = next(iter(train_loader))\n",
        "\n",
        "fig = plt.figure()\n",
        "for i in range(6):\n",
        "  plt.subplot(2,3,i+1)\n",
        "  plt.tight_layout()\n",
        "  plt.imshow(example_data[i][0], cmap='gray', interpolation='none')\n",
        "  plt.title(\"Digit: {}\".format(example_targets[i]))\n",
        "  plt.xticks([])\n",
        "  plt.yticks([])\n",
        "\n",
        "fig"
      ],
      "metadata": {
        "id": "st0CngvPt7fJ",
        "colab": {
          "base_uri": "https://localhost:8080/",
          "height": 606
        },
        "outputId": "19017225-ecdd-4ee7-8bad-c0a642d0b9cc"
      },
      "execution_count": null,
      "outputs": [
        {
          "output_type": "stream",
          "name": "stderr",
          "text": [
            "/usr/local/lib/python3.7/dist-packages/torch/utils/data/dataloader.py:481: UserWarning: This DataLoader will create 4 worker processes in total. Our suggested max number of worker in current system is 2, which is smaller than what this DataLoader is going to create. Please be aware that excessive worker creation might get DataLoader running slow or even freeze, lower the worker number to avoid potential slowness/freeze if necessary.\n",
            "  cpuset_checked))\n"
          ]
        },
        {
          "output_type": "execute_result",
          "data": {
            "text/plain": [
              "<Figure size 432x288 with 6 Axes>"
            ],
            "image/png": "[encoded data removed]"
          },
          "metadata": {},
          "execution_count": 4
        },
        {
          "output_type": "display_data",
          "data": {
            "text/plain": [
              "<Figure size 432x288 with 6 Axes>"
            ],
            "image/png": "[encoded data removed]"
          },
          "metadata": {}
        }
      ]
    },
    {
      "cell_type": "markdown",
      "source": [
        "## Feed Forward Neural Network"
      ],
      "metadata": {
        "id": "1PM0rRJxi3-x"
      }
    },
    {
      "cell_type": "markdown",
      "source": [
        "The idea is that we will be building a normal Feed Forward Neural network and train it to classify the digits correctly. Therefore, because we are having images as input, we are **flattening** the inputs as first, converting the image from 2D to 1D to be entered to neurons; after that we use this as input to our feed forward neural network."
      ],
      "metadata": {
        "id": "YI0F8L7XjAqx"
      }
    },
    {
      "cell_type": "code",
      "source": [
        "# ==============================================================================\n",
        "# Building a generic model\n",
        "# ==============================================================================\n",
        "class FFNN(nn.Module):\n",
        "    \"\"\"Simple Feed Forward Neural Network with variable hidden layers\n",
        "    \n",
        "    Inputs:\n",
        "    - input_size: the input size after flattening the image\n",
        "    - num_hidden_layers: the number of hidden layers\n",
        "    - hidden_size: the size of the hidden layers\n",
        "    - out_size: the number of clusters [0-9]\n",
        "    - accuracy_function: the accuracy based on which we evaluate the results\n",
        "    \"\"\"\n",
        "    def __init__(self, input_size, num_hidden_layers, hidden_size, out_size,\n",
        "                 accuracy_function):\n",
        "        super().__init__()\n",
        "        self.flatten_layer = nn.Flatten()\n",
        "        self.accuracy_function = accuracy_function\n",
        "        \n",
        "        # Create first hidden layer\n",
        "        self.input_layer = nn.Linear(input_size, hidden_size)\n",
        "        \n",
        "        # Create remaining hidden layers\n",
        "        self.hidden_layers = nn.ModuleList()\n",
        "        for i in range(0, num_hidden_layers):\n",
        "            self.hidden_layers.append(nn.Linear(hidden_size, hidden_size))\n",
        "        \n",
        "        # Create output layer\n",
        "        self.output_layer = nn.Linear(hidden_size, out_size)\n",
        "\n",
        "    # --------------------------------------------------------------------------\n",
        "    \n",
        "    def forward(self, input_image):\n",
        "        \n",
        "        # Flatten image\n",
        "        input_image = self.flatten_layer(input_image)\n",
        "        \n",
        "        # Utilize hidden layers and apply activation function\n",
        "        output = self.input_layer(input_image)\n",
        "        output = F.relu(output)\n",
        "        \n",
        "        for layer in self.hidden_layers:\n",
        "            output = layer(output)\n",
        "            output = F.relu(output)\n",
        "        \n",
        "        # Get predictions\n",
        "        output = self.output_layer(output)\n",
        "        return output\n",
        "    \n",
        "    # --------------------------------------------------------------------------\n",
        "\n",
        "    def training_step(self, batch):\n",
        "        # Load batch\n",
        "        images, labels = batch\n",
        "\n",
        "        # Get data to cuda if possible\n",
        "        images = images.to(device=device)\n",
        "        labels = labels.to(device=device)\n",
        "        \n",
        "        # Generate predictions\n",
        "        output = self(images) \n",
        "        \n",
        "        # Calculate loss\n",
        "        loss = F.cross_entropy(output, labels)\n",
        "        return loss\n",
        "    \n",
        "    # --------------------------------------------------------------------------\n",
        "\n",
        "    def validation_step(self, batch):\n",
        "        # Load batch\n",
        "        images, labels = batch\n",
        "\n",
        "        # Get data to cuda if possible\n",
        "        images = images.to(device=device)\n",
        "        labels = labels.to(device=device)\n",
        "\n",
        "        # Generate predictions\n",
        "        output = self(images) \n",
        "        \n",
        "        # Calculate loss\n",
        "        loss = F.cross_entropy(output, labels)\n",
        "\n",
        "        # Calculate accuracy\n",
        "        acc = self.accuracy_function(output, labels)\n",
        "        \n",
        "        return {'val_loss': loss, 'val_acc': acc}\n",
        "        \n",
        "    # --------------------------------------------------------------------------\n",
        "\n",
        "    def validation_epoch_end(self, outputs):\n",
        "        \n",
        "        # Combine losses and return mean value\n",
        "        batch_losses = [x['val_loss'] for x in outputs]\n",
        "        epoch_loss = torch.stack(batch_losses).mean()\n",
        "        \n",
        "        # Combine accuracies and return mean value\n",
        "        batch_accs = [x['val_acc'] for x in outputs]\n",
        "        epoch_acc = torch.stack(batch_accs).mean()\n",
        "        return {'val_loss': epoch_loss.item(), 'val_acc': epoch_acc.item()}\n",
        "    \n",
        "    # --------------------------------------------------------------------------\n",
        "\n",
        "    def epoch_end(self, epoch, result):\n",
        "        print(\"Epoch: {} - Validation Loss: {:.4f}, Validation Accuracy: {:.4f}\\\n",
        "        \".format(epoch+1, result['val_loss'], result['val_acc']))"
      ],
      "metadata": {
        "id": "qLLUcMPsluZT"
      },
      "execution_count": null,
      "outputs": []
    },
    {
      "cell_type": "markdown",
      "source": [
        "Briefly, we are having the below methods:\n",
        "\n",
        "- `forward`: **overriden** performs the forward pass producing the model output\n",
        "- `training_step`: performs one step during the training\n",
        "- `validation_step`: performs one step of the validation process\n",
        "- `validation_epoch_end`: computes the validation loss and accuracy per epoch\n",
        "- `epoch_end`: merely printing function done at the end of each epoch"
      ],
      "metadata": {
        "id": "gorjBpIepCc0"
      }
    },
    {
      "cell_type": "markdown",
      "source": [
        "### Training"
      ],
      "metadata": {
        "id": "iXZsqDP5oT7T"
      }
    },
    {
      "cell_type": "code",
      "source": [
        "class ModelTrainer():\n",
        "  \"\"\"The class automatically train our model\n",
        "  \"\"\"\n",
        "  def fit(self, epochs, learning_rate, model, train_loader, val_loader, \n",
        "          opt_func=torch.optim.SGD):\n",
        "    \"\"\"The function trains a model according to the hyperparameters:\n",
        "    - epochs: the total number of epochs of training\n",
        "    - learning_rate: the learning rate of our optimizer\n",
        "    - model: the model to be trained\n",
        "    - train_loader: the loader holding the training data\n",
        "    - val_loader: the loader holding the validation data\n",
        "    \"\"\"\n",
        "    history = []\n",
        "    optimizer = opt_func(model.parameters(), learning_rate)\n",
        "\n",
        "    for epoch in range(epochs):\n",
        "        # Training \n",
        "        model.train()\n",
        "        for batch in train_loader:\n",
        "            # Clear the parameter gradients\n",
        "            optimizer.zero_grad()\n",
        "            # perform the forward pass and compute the loss\n",
        "            loss = model.training_step(batch)\n",
        "            # perform the backward pass\n",
        "            loss.backward()\n",
        "            optimizer.step()\n",
        "            \n",
        "\n",
        "        # Validation\n",
        "        model.eval()\n",
        "        result = self._evaluate(model, val_loader)\n",
        "        model.epoch_end(epoch, result)\n",
        "        history.append(result)\n",
        "        \n",
        "    return history\n",
        "\n",
        "  def _evaluate(self, model, val_loader):\n",
        "    outputs = [model.validation_step(batch) for batch in val_loader]\n",
        "    return model.validation_epoch_end(outputs)"
      ],
      "metadata": {
        "id": "z4unqXXNqoQf"
      },
      "execution_count": null,
      "outputs": []
    },
    {
      "cell_type": "code",
      "source": [
        "def accuracy(outputs, labels):\n",
        "  _, preds = torch.max(outputs, dim=1)\n",
        "  return torch.tensor(torch.sum(preds == labels).item() / len(preds))\n",
        "\n",
        "def plot_history(history):\n",
        "  losses = [x['val_loss'] for x in history]\n",
        "  accuracies = [x['val_acc'] for x in history]\n",
        "  _,ax = plt.subplots()\n",
        "  ax.plot(losses, '-x')\n",
        "  ax.set_xlabel('Epoch')\n",
        "  ax.set_ylabel('Loss')\n",
        "  ax.set_title('Loss Curve on Validation')\n",
        "\n",
        "  _,ax = plt.subplots()\n",
        "  ax.plot(accuracies, '-x')\n",
        "  ax.set_xlabel('Epoch')\n",
        "  ax.set_ylabel('Accuracy')\n",
        "  ax.set_title('Accuracy Curve on Validation')"
      ],
      "metadata": {
        "id": "3e03yVz3nlvT"
      },
      "execution_count": null,
      "outputs": []
    },
    {
      "cell_type": "markdown",
      "source": [
        "### Performing the results"
      ],
      "metadata": {
        "id": "W8NWNKRzs-QA"
      }
    },
    {
      "cell_type": "code",
      "source": [
        "# ==============================================================================\n",
        "# Have some specs as below:\n",
        "# - input_size = 28*28 = 784\n",
        "# ==============================================================================\n",
        "input_size = 784\n",
        "num_classes = 10\n",
        "num_hidden_layers = 3\n",
        "hidden_layer_size = 32\n",
        "model = FFNN(input_size, num_hidden_layers, hidden_layer_size,\n",
        "             out_size=num_classes, accuracy_function=accuracy).to(device)\n",
        "print(model)"
      ],
      "metadata": {
        "colab": {
          "base_uri": "https://localhost:8080/"
        },
        "id": "XTTaqQMaoncW",
        "outputId": "a3f84502-fd65-4c2a-c205-0092726c472e"
      },
      "execution_count": null,
      "outputs": [
        {
          "output_type": "stream",
          "name": "stdout",
          "text": [
            "FFNN(\n",
            "  (flatten_layer): Flatten(start_dim=1, end_dim=-1)\n",
            "  (input_layer): Linear(in_features=784, out_features=32, bias=True)\n",
            "  (hidden_layers): ModuleList(\n",
            "    (0): Linear(in_features=32, out_features=32, bias=True)\n",
            "    (1): Linear(in_features=32, out_features=32, bias=True)\n",
            "    (2): Linear(in_features=32, out_features=32, bias=True)\n",
            "  )\n",
            "  (output_layer): Linear(in_features=32, out_features=10, bias=True)\n",
            ")\n"
          ]
        }
      ]
    },
    {
      "cell_type": "code",
      "source": [
        "model_trainer = ModelTrainer()\n",
        "\n",
        "training_history = []\n",
        "training_history = model_trainer.fit(5, 0.2, model, train_loader, val_loader)"
      ],
      "metadata": {
        "colab": {
          "base_uri": "https://localhost:8080/"
        },
        "id": "anVcrG2Mtt1J",
        "outputId": "92052253-80b5-4c81-efdd-5386e31c666a"
      },
      "execution_count": null,
      "outputs": [
        {
          "output_type": "stream",
          "name": "stderr",
          "text": [
            "/usr/local/lib/python3.7/dist-packages/torch/utils/data/dataloader.py:481: UserWarning: This DataLoader will create 4 worker processes in total. Our suggested max number of worker in current system is 2, which is smaller than what this DataLoader is going to create. Please be aware that excessive worker creation might get DataLoader running slow or even freeze, lower the worker number to avoid potential slowness/freeze if necessary.\n",
            "  cpuset_checked))\n"
          ]
        },
        {
          "output_type": "stream",
          "name": "stdout",
          "text": [
            "Epoch: 1 - Validation Loss: 0.4081, Validation Accuracy: 0.8767        \n",
            "Epoch: 2 - Validation Loss: 0.2058, Validation Accuracy: 0.9410        \n",
            "Epoch: 3 - Validation Loss: 0.1757, Validation Accuracy: 0.9484        \n",
            "Epoch: 4 - Validation Loss: 0.1329, Validation Accuracy: 0.9597        \n",
            "Epoch: 5 - Validation Loss: 0.1414, Validation Accuracy: 0.9568        \n"
          ]
        }
      ]
    },
    {
      "cell_type": "code",
      "source": [
        "plot_history(training_history)"
      ],
      "metadata": {
        "colab": {
          "base_uri": "https://localhost:8080/",
          "height": 573
        },
        "id": "fZ-OdEhuvXro",
        "outputId": "4c45a3d5-6baa-4540-abc7-ae0feff1d7cf"
      },
      "execution_count": null,
      "outputs": [
        {
          "output_type": "display_data",
          "data": {
            "text/plain": [
              "<Figure size 432x288 with 1 Axes>"
            ],
            "image/png": "[encoded data removed]"
          },
          "metadata": {
            "needs_background": "light"
          }
        },
        {
          "output_type": "display_data",
          "data": {
            "text/plain": [
              "<Figure size 432x288 with 1 Axes>"
            ],
            "image/png": "[encoded data removed]"
          },
          "metadata": {
            "needs_background": "light"
          }
        }
      ]
    },
    {
      "cell_type": "markdown",
      "source": [
        "## Convolutional Neural Network"
      ],
      "metadata": {
        "id": "8jwnQKvUyHls"
      }
    },
    {
      "cell_type": "markdown",
      "source": [
        "Convolutional layers are considered to perform better on images, so we are building a CNN. Nevertheless, before start building the model, we are clairifying the convolution as if you were training on some **image filters**. Therefore, instead of specifying the filters manually or even using a feedforward, the model will learn to extract some useful features while training. We are creating the below model:"
      ],
      "metadata": {
        "id": "wiUL3YrKzOFD"
      }
    },
    {
      "cell_type": "markdown",
      "source": [
        "![CNN.png](data:image/png;base64,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)"
      ],
      "metadata": {
        "id": "Xmum4fvX1BlL"
      }
    },
    {
      "cell_type": "code",
      "source": [
        "class CNN(nn.Module):\n",
        "    \"\"\"Simple Convolutional Neural Network\"\"\"\n",
        "    def __init__(self, accuracy_function):\n",
        "        super().__init__()\n",
        "        self.accuracy_function = accuracy_function\n",
        "\n",
        "        # Create Convolutional Layers\n",
        "        self.model = nn.Sequential(\n",
        "            # Dimension: 28*28\n",
        "            nn.Conv2d(in_channels=1,out_channels=32, kernel_size=3,\n",
        "                      stride=1, padding=1),\n",
        "            # Dimension: 28*28\n",
        "            nn.ReLU(),\n",
        "            nn.MaxPool2d(kernel_size= 2, stride= 2),\n",
        "            # Dimension: 14*14\n",
        "            nn.Conv2d(in_channels=32,out_channels=64, kernel_size=3,\n",
        "                      stride=1, padding=1),\n",
        "            nn.ReLU(),\n",
        "            nn.MaxPool2d(kernel_size= 2, stride= 2),\n",
        "            # Dimension: 7*7\n",
        "            nn.Flatten(),\n",
        "            nn.Linear(7*7*64, 128),\n",
        "            nn.ReLU(),\n",
        "            nn.Linear(128, 10)\n",
        "        )\n",
        "        \n",
        "    def forward(self, input_image):\n",
        "        # Just run the imput into the sequential model\n",
        "        output = self.model(input_image)\n",
        "        return output\n",
        "    \n",
        "    def training_step(self, batch):\n",
        "        # Load batch\n",
        "        images, labels = batch\n",
        "        \n",
        "        # Get data to cuda if possible\n",
        "        images = images.to(device=device)\n",
        "        labels = labels.to(device=device)\n",
        "\n",
        "        # Generate predictions\n",
        "        output = self(images) \n",
        "        \n",
        "        # Calculate loss\n",
        "        loss = F.cross_entropy(output, labels)\n",
        "        return loss\n",
        "    \n",
        "    def validation_step(self, batch):\n",
        "        # Load batch\n",
        "        images, labels = batch\n",
        "\n",
        "        # Get data to cuda if possible\n",
        "        images = images.to(device=device)\n",
        "        labels = labels.to(device=device)\n",
        "\n",
        "        # Generate predictions\n",
        "        output = self(images) \n",
        "        \n",
        "        # Calculate loss\n",
        "        loss = F.cross_entropy(output, labels)\n",
        "\n",
        "        # Calculate accuracy\n",
        "        acc = self.accuracy_function(output, labels)\n",
        "        \n",
        "        return {'val_loss': loss, 'val_acc': acc}\n",
        "        \n",
        "    def validation_epoch_end(self, outputs):\n",
        "        \n",
        "        # Combine losses and return mean value\n",
        "        batch_losses = [x['val_loss'] for x in outputs]\n",
        "        epoch_loss = torch.stack(batch_losses).mean()\n",
        "        \n",
        "        # Combine accuracies and return mean value\n",
        "        batch_accs = [x['val_acc'] for x in outputs]\n",
        "        epoch_acc = torch.stack(batch_accs).mean()\n",
        "        return {'val_loss': epoch_loss.item(), 'val_acc': epoch_acc.item()}\n",
        "    \n",
        "    def epoch_end(self, epoch, result):\n",
        "        print(\"Epoch: {} - Validation Loss: {:.4f}, Validation Accuracy: {:.4f}\\\n",
        "              \".format(epoch+1, result['val_loss'], result['val_acc']))"
      ],
      "metadata": {
        "id": "OnEms1a4uDLx"
      },
      "execution_count": null,
      "outputs": []
    },
    {
      "cell_type": "markdown",
      "source": [
        "### Checking Results"
      ],
      "metadata": {
        "id": "oFqvEND74UFb"
      }
    },
    {
      "cell_type": "code",
      "source": [
        "input_size = 784\n",
        "num_classes = 10\n",
        "\n",
        "model = CNN(accuracy_function=accuracy).to(device)\n",
        "print(model)"
      ],
      "metadata": {
        "colab": {
          "base_uri": "https://localhost:8080/"
        },
        "id": "3x-Dqvpb1icW",
        "outputId": "ebeba086-6866-42ae-b115-ae8512331c3b"
      },
      "execution_count": null,
      "outputs": [
        {
          "output_type": "stream",
          "name": "stdout",
          "text": [
            "CNN(\n",
            "  (model): Sequential(\n",
            "    (0): Conv2d(1, 32, kernel_size=(3, 3), stride=(1, 1), padding=(1, 1))\n",
            "    (1): ReLU()\n",
            "    (2): MaxPool2d(kernel_size=2, stride=2, padding=0, dilation=1, ceil_mode=False)\n",
            "    (3): Conv2d(32, 64, kernel_size=(3, 3), stride=(1, 1), padding=(1, 1))\n",
            "    (4): ReLU()\n",
            "    (5): MaxPool2d(kernel_size=2, stride=2, padding=0, dilation=1, ceil_mode=False)\n",
            "    (6): Flatten(start_dim=1, end_dim=-1)\n",
            "    (7): Linear(in_features=3136, out_features=128, bias=True)\n",
            "    (8): ReLU()\n",
            "    (9): Linear(in_features=128, out_features=10, bias=True)\n",
            "  )\n",
            ")\n"
          ]
        }
      ]
    },
    {
      "cell_type": "code",
      "source": [
        "model_trainer = ModelTrainer()\n",
        "\n",
        "training_history = []\n",
        "training_history = model_trainer.fit(5, 0.2, model, train_loader, val_loader)"
      ],
      "metadata": {
        "colab": {
          "base_uri": "https://localhost:8080/"
        },
        "id": "EE2wmASA4WYQ",
        "outputId": "55c51811-1521-4317-f007-679d8917469c"
      },
      "execution_count": null,
      "outputs": [
        {
          "output_type": "stream",
          "name": "stderr",
          "text": [
            "/usr/local/lib/python3.7/dist-packages/torch/utils/data/dataloader.py:481: UserWarning: This DataLoader will create 4 worker processes in total. Our suggested max number of worker in current system is 2, which is smaller than what this DataLoader is going to create. Please be aware that excessive worker creation might get DataLoader running slow or even freeze, lower the worker number to avoid potential slowness/freeze if necessary.\n",
            "  cpuset_checked))\n"
          ]
        },
        {
          "output_type": "stream",
          "name": "stdout",
          "text": [
            "Epoch: 1 - Validation Loss: 0.0690, Validation Accuracy: 0.9778              \n",
            "Epoch: 2 - Validation Loss: 0.0513, Validation Accuracy: 0.9842              \n",
            "Epoch: 3 - Validation Loss: 0.0348, Validation Accuracy: 0.9883              \n",
            "Epoch: 4 - Validation Loss: 0.0315, Validation Accuracy: 0.9893              \n",
            "Epoch: 5 - Validation Loss: 0.0296, Validation Accuracy: 0.9895              \n"
          ]
        }
      ]
    },
    {
      "cell_type": "code",
      "source": [
        "plot_history(training_history)"
      ],
      "metadata": {
        "colab": {
          "base_uri": "https://localhost:8080/",
          "height": 573
        },
        "id": "V_ofL6364qwY",
        "outputId": "5df4149d-ad7a-47c5-c42e-fbf93b87783b"
      },
      "execution_count": null,
      "outputs": [
        {
          "output_type": "display_data",
          "data": {
            "text/plain": [
              "<Figure size 432x288 with 1 Axes>"
            ],
            "image/png": "[encoded data removed]"
          },
          "metadata": {
            "needs_background": "light"
          }
        },
        {
          "output_type": "display_data",
          "data": {
            "text/plain": [
              "<Figure size 432x288 with 1 Axes>"
            ],
            "image/png": "[encoded data removed]"
          },
          "metadata": {
            "needs_background": "light"
          }
        }
      ]
    }
  ]
}